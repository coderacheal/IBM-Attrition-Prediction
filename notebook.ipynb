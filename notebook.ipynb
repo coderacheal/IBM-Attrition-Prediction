{
 "cells": [
  {
   "cell_type": "markdown",
   "metadata": {},
   "source": [
    "# IBM-Attrition Project"
   ]
  },
  {
   "cell_type": "markdown",
   "metadata": {},
   "source": [
    "Data Dictionary\n",
    "\n",
    "- Age: Age of employee\n",
    "- Attrition: Employee attrition status\n",
    "- Department: Department of work\n",
    "- DistanceFromHome\n",
    "- Education: 1-Below College; 2- College; 3-Bachelor; 4-Master; 5-Doctor;\n",
    "- EducationField\n",
    "- EnvironmentSatisfaction: 1-Low; 2-Medium; 3-High; 4-Very High;\n",
    "- JobSatisfaction: 1-Low; 2-Medium; 3-High; 4-Very High;\n",
    "- MaritalStatus\n",
    "- MonthlyIncome\n",
    "- NumCompaniesWorked: Number of companies worked prior to IBM\n",
    "- WorkLifeBalance: 1-Bad; 2-Good; 3-Better; 4-Best;\n",
    "- YearsAtCompany: Current years of service in IBM"
   ]
  },
  {
   "cell_type": "markdown",
   "metadata": {},
   "source": [
    "### **Description**: The aim of the project is to build a robust machine learning pipeline to predict whether certain employees of IBM Ghana will leave company or not. The predictive modelling will be done after a comprehensive analysis of the dataset provided by the business team.\n",
    "\n",
    "\n",
    "\n",
    "\n",
    "\n",
    "#### **Null Hypothesis**: There appears not to be a relationship between the rate at which employees leave the company and the number of years they have been employed\n",
    "\n",
    "#### **Alternate Hypothesis**: There is a definitive relationship that exist between employee attrition and the number of year they have spent at IMB.\n",
    "\n"
   ]
  },
  {
   "cell_type": "markdown",
   "metadata": {},
   "source": [
    "#### Analytical Questions"
   ]
  },
  {
   "cell_type": "code",
   "execution_count": null,
   "metadata": {},
   "outputs": [],
   "source": []
  },
  {
   "cell_type": "markdown",
   "metadata": {},
   "source": [
    "## Importations"
   ]
  },
  {
   "cell_type": "code",
   "execution_count": null,
   "metadata": {},
   "outputs": [],
   "source": [
    "# Data Manipulations\n",
    "import pandas as pd\n",
    "import numpy as np\n",
    "import matplotlib.pyplot as plt\n",
    "import seaborn as sns"
   ]
  },
  {
   "cell_type": "markdown",
   "metadata": {},
   "source": [
    "### Load Data"
   ]
  },
  {
   "cell_type": "code",
   "execution_count": null,
   "metadata": {},
   "outputs": [],
   "source": [
    "df = pd.read_csv('attrition_data_ibm.csv')\n",
    "df.head()"
   ]
  },
  {
   "cell_type": "code",
   "execution_count": null,
   "metadata": {},
   "outputs": [],
   "source": [
    "df.info()"
   ]
  },
  {
   "cell_type": "code",
   "execution_count": null,
   "metadata": {},
   "outputs": [],
   "source": [
    "df.isna().sum()"
   ]
  },
  {
   "cell_type": "code",
   "execution_count": null,
   "metadata": {},
   "outputs": [],
   "source": [
    "df = df.drop('ColumnX', axis=1)\n",
    "df.head()"
   ]
  },
  {
   "cell_type": "code",
   "execution_count": null,
   "metadata": {},
   "outputs": [],
   "source": [
    "df.describe().T"
   ]
  },
  {
   "cell_type": "code",
   "execution_count": null,
   "metadata": {},
   "outputs": [],
   "source": [
    "df.describe(include='object').T  "
   ]
  },
  {
   "cell_type": "markdown",
   "metadata": {},
   "source": [
    "### Univariate Analysis"
   ]
  },
  {
   "cell_type": "code",
   "execution_count": null,
   "metadata": {},
   "outputs": [],
   "source": [
    "df.hist(figsize=(12,12), grid=False, color='skyblue')\n",
    "plt.show()"
   ]
  }
 ],
 "metadata": {
  "kernelspec": {
   "display_name": "Python 3",
   "language": "python",
   "name": "python3"
  },
  "language_info": {
   "codemirror_mode": {
    "name": "ipython",
    "version": 3
   },
   "file_extension": ".py",
   "mimetype": "text/x-python",
   "name": "python",
   "nbconvert_exporter": "python",
   "pygments_lexer": "ipython3",
   "version": "3.10.11"
  }
 },
 "nbformat": 4,
 "nbformat_minor": 2
}
